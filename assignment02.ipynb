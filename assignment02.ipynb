{
 "cells": [
  {
   "cell_type": "markdown",
   "metadata": {},
   "source": [
    "# This script demonstrates the first order Taylor expansion of a given function\n",
    "\n",
    "# Name : Jun-ha Lee\n",
    "# Student ID : 2017220159"
   ]
  },
  {
   "cell_type": "markdown",
   "metadata": {},
   "source": [
    "# numpy 와 matplotlib 패키지를 불러온다"
   ]
  },
  {
   "cell_type": "code",
   "execution_count": 1,
   "metadata": {},
   "outputs": [],
   "source": [
    "import numpy as np\n",
    "import matplotlib.pyplot as plt"
   ]
  },
  {
   "cell_type": "markdown",
   "metadata": {},
   "source": [
    "# My function을 정의 : $f(x) =$$\\cos(x) \\over 1 + e^x$"
   ]
  },
  {
   "cell_type": "code",
   "execution_count": 2,
   "metadata": {},
   "outputs": [],
   "source": [
    "def myFunction(x):\n",
    "    f = np.cos(x) / (1 + np.exp(x))\n",
    "    return f"
   ]
  },
  {
   "cell_type": "markdown",
   "metadata": {},
   "source": [
    "# My derivative function을 정의 : $f'(x) =$$-\\sin(x)(1+e^x-\\cos(x)e^x) \\over (1+e^x)^2$"
   ]
  },
  {
   "cell_type": "code",
   "execution_count": 3,
   "metadata": {},
   "outputs": [],
   "source": [
    "def myDerivativeFunction(x):\n",
    "    Df = (-np.sin(x)*(1+np.exp(x))-np.cos(x)*np.exp(x)) / ((1+np.exp(x))**2)\n",
    "    return Df"
   ]
  },
  {
   "cell_type": "markdown",
   "metadata": {},
   "source": [
    "# First order Taylor Approximation, x=3\n",
    "$\\widehat{f}(x)\\approx$ $f(3) + f'(3)(x-3)$"
   ]
  },
  {
   "cell_type": "code",
   "execution_count": 4,
   "metadata": {},
   "outputs": [],
   "source": [
    "def myDerivativeFunction1(x):\n",
    "    a = 3\n",
    "    Df1 = myFunction(a) + myDerivativeFunction(a)*(x-a)\n",
    "    return Df1"
   ]
  },
  {
   "cell_type": "markdown",
   "metadata": {},
   "source": [
    "# First order Taylor Approximation, x=0\n",
    "$\\widehat{f}(x)\\approx$ $f(0) + f'(0)(x-0)$"
   ]
  },
  {
   "cell_type": "code",
   "execution_count": 5,
   "metadata": {},
   "outputs": [],
   "source": [
    "def myDerivativeFunction2(x):\n",
    "    a = 0\n",
    "    Df2 = myFunction(a) + myDerivativeFunction(a)*(x-a)\n",
    "    return Df2"
   ]
  },
  {
   "cell_type": "markdown",
   "metadata": {},
   "source": [
    "# First order Taylor Approximation, x=-2\n",
    "$\\widehat{f}(x)\\approx$ $f(-2) + f'(-2)(x+2)$"
   ]
  },
  {
   "cell_type": "code",
   "execution_count": 6,
   "metadata": {},
   "outputs": [],
   "source": [
    "def myDerivativeFunction3(x):\n",
    "    a = -2\n",
    "    Df3 = myFunction(a) + myDerivativeFunction(a)*(x-a)\n",
    "    return Df3"
   ]
  },
  {
   "cell_type": "markdown",
   "metadata": {},
   "source": [
    "# 함수의 범위를 지정한다 : $x = [-5 : 0.1 : 5]$"
   ]
  },
  {
   "cell_type": "code",
   "execution_count": 7,
   "metadata": {},
   "outputs": [],
   "source": [
    "x = np.arange(-5, 5, 0.1)"
   ]
  },
  {
   "cell_type": "markdown",
   "metadata": {},
   "source": [
    "# 함수 계산한다"
   ]
  },
  {
   "cell_type": "code",
   "execution_count": 8,
   "metadata": {},
   "outputs": [],
   "source": [
    "f = myFunction(x)\n",
    "Df = myDerivativeFunction(x)\n",
    "Df1 = myDerivativeFunction1(x)\n",
    "Df2 = myDerivativeFunction2(x)\n",
    "Df3 = myDerivativeFunction3(x)"
   ]
  },
  {
   "cell_type": "markdown",
   "metadata": {},
   "source": [
    "# 그래프로 함수 f와 미분함수 Df 그리고 3개의 점에서의 First order Taylor Approximation을 구한다"
   ]
  },
  {
   "cell_type": "code",
   "execution_count": 9,
   "metadata": {},
   "outputs": [
    {
     "data": {
      "image/png": "[encoded data removed]",
      "text/plain": [
       "<matplotlib.figure.Figure at 0x7f29e7f0aa20>"
      ]
     },
     "metadata": {},
     "output_type": "display_data"
    }
   ],
   "source": [
    "plt.figure(1)\n",
    "plt.plot(x, f, 'b', label=\"function\")\n",
    "plt.plot(x, Df, 'r', label=\"derivative\")\n",
    "plt.plot(x, Df1, 'g', label=\"derivative at x=3\")\n",
    "plt.plot(x, Df2, 'g', label=\"derivative at x=0\")\n",
    "plt.plot(x, Df3, 'g', label=\"derivative at x=-4\")\n",
    "plt.legend(bbox_to_anchor=(1.05, 1), loc=2, borderaxespad=0.)\n",
    "plt.show()"
   ]
  }
 ],
 "metadata": {
  "kernelspec": {
   "display_name": "Python 3",
   "language": "python",
   "name": "python3"
  },
  "language_info": {
   "codemirror_mode": {
    "name": "ipython",
    "version": 3
   },
   "file_extension": ".py",
   "mimetype": "text/x-python",
   "name": "python",
   "nbconvert_exporter": "python",
   "pygments_lexer": "ipython3",
   "version": "3.5.2"
  }
 },
 "nbformat": 4,
 "nbformat_minor": 2
}
